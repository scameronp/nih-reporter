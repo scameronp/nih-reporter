{
 "cells": [
  {
   "cell_type": "markdown",
   "metadata": {},
   "source": [
    "# Prochaine étape : circonscrire la portée de l'analyse"
   ]
  },
  {
   "cell_type": "markdown",
   "metadata": {},
   "source": [
    "## Préambule"
   ]
  },
  {
   "cell_type": "markdown",
   "metadata": {},
   "source": [
    "L'étude de [Hoppe et al. (2019)](https://www.science.org/doi/abs/10.1126/sciadv.aaw7238) a montré que le taux de financement plus faible des chercheur.e.s Afro-américain.e.s/noir.e.s (AA/B) s'explique par trois étapes du processus décisionnel de la part des évaluateur.trice.s :\n",
    "\n",
    "> all three of the factors that underlie the funding gap—preference for some topics over others, assignment of poorer scores, and decision to discuss an application—revolve around decisions made by reviewers\n",
    "\n",
    "De plus, l'étude de [Kozlowskia et al. (2019)](https://www.pnas.org/content/119/2/e2113067119) a montré que :\n",
    "\n",
    ">  minoritized authors tend to publish in scientific disciplines and on research topics that reflect their gendered and racialized social identities\n",
    "\n",
    "Autrement dit, que :\n",
    "\n",
    "> there is a privilege of choice in scientific knowledge production, wherein research on a particular topic is influenced by scientist’s race and gender\n",
    "\n",
    "On peut donc penser que des mécanismes similaires à ceux identifiés par Hoppe et al. (2019) et par [Magua et al. (2017)](https://www.ncbi.nlm.nih.gov/pmc/articles/PMC5446598/) sont à l'oeuvre pour expliquer le sous-financement des femmes en recherche. Notre jeu de données ne nous permet cependant pas d'en étudier les causes sous-jacentes comme l'ont fait Hoppe et al. (2019), ni de mener une analyse intersectionnelle comme l'ont fait Kozlowskia et al. (2019). Il nous permet toutefois de faire l'état des lieux et d'explorer les questions ci-dessous."
   ]
  },
  {
   "cell_type": "markdown",
   "metadata": {},
   "source": [
    "## Exemples de questions exploratoires"
   ]
  },
  {
   "cell_type": "markdown",
   "metadata": {},
   "source": [
    "* Pour étudier la concentration du financement :\n",
    "    * Les femmes sont-elles moins financées que les hommes par les NIH?\n",
    "    * Les femmes sont-elles financées aussi souvent que les hommes, i.e. quelle est la proportion de femmes vs hommes qui ont obtenu plus d'un financement? Combien en ont-elles/ils obtenus?\n",
    "    * Quelle est la durée des projets financés pour les femmes vs les hommes?\n",
    "* Et son évolution dans le temps :\n",
    "    * Quelle est l'évolution du financement des femmes vs des hommes dans le temps? Le \"funding gap\" est-il stable, se réduit-il, augmente-t-il?\n",
    "    * **RÉGRESSION :** Si le \"funding gap\" se réduit, dans combien d'années peut-on estimer que la parité sera atteinte si la tendance se maintient? (voir [Holman et al., 2018](https://journals.plos.org/plosbiology/article?id=10.1371/journal.pbio.2004956))\n",
    "* Pour étudier l'effet de la collaboration scientifique :\n",
    "    * Les femmes ont-elles davantage de co-PIs que les hommes ou l'inverse? Combien en ont-elles/ils?\n",
    "    * Les équipes plus nombreuses sont-elles plus financées, plus souvent, plus longtemps?"
   ]
  },
  {
   "cell_type": "markdown",
   "metadata": {},
   "source": [
    "## Autres questions pour aller plus loin..."
   ]
  },
  {
   "cell_type": "markdown",
   "metadata": {},
   "source": [
    "* NLP : s'inspirer de la méthode de Hoppe et al. (2019) pour identifier des champs de recherche à partir du titre des projets et des termes associés\n",
    "    * Quels sont les champs de recherche les plus et les moins financés?\n",
    "    * Quels sont les champs de recherche où oeuvrent davantage les femmes vs les hommes? \n",
    "* Inclure les autres types de financement des NIH dans l'analyse à des fins de comparaison (p. ex. subvention d’infrastructure vs subvention de projet)"
   ]
  },
  {
   "cell_type": "markdown",
   "metadata": {},
   "source": [
    "## Et en ajoutant d'autres données..."
   ]
  },
  {
   "cell_type": "markdown",
   "metadata": {},
   "source": [
    "* D'autres données des NIH :\n",
    "    * Les résumés des projets financés, pour améliorer l'identification des champs de recherche et mieux répondre aux questions ci-dessus\n",
    "    * Les publications associées aux projets financés, pour étudier la concentration de la production scientifique :\n",
    "        * À financement égal et en normalisant par champ de recherche, les femmes publient-elles autant que les hommes? (voir [Larivière et al., 2013](https://www.nature.com/articles/504211a))\n",
    "* Des données externes :\n",
    "    * Taille / prestige des universités d'attache des PIs contacts"
   ]
  },
  {
   "cell_type": "markdown",
   "metadata": {},
   "source": [
    "## Problèmes, interrogations, bloquants, limitations"
   ]
  },
  {
   "cell_type": "markdown",
   "metadata": {},
   "source": [
    "* Restreindre aux subventions de type [R01](https://grants.nih.gov/grants/funding/r01.htm) dans un premier temps, comme l'ont fait Magua et al. (2017)\n",
    "* Attribuer un genre seulement aux PIs contacts lorsqu'il y a plusieurs PIs\n",
    "* Exclure les sous-projets pour le moment :\n",
    "    * Il y a une hiérarchie dans les données : des projets, des sous-projets. Pour un projet parent, le montant total est dans la colonne TOTAL_COST, mais pour un sous-projet, le montant sera dans TOTAL_COST_SUB_PROJECT et il n'y aura rien dans TOTAL_COST.\n",
    "    * Pour voir si une ligne réfère à un projet parent ou à un sous-projet, il faut regarder dans la colonne SUBPROJECT_ID. Quand c'est vide, on parle d'un projet parent ou d'un projet qui n'a pas de sous-projets, et quand il y a un ID, il s'agit d'un sous-projet. Dans ce dernier cas, l'ID du projet parent se trouve dans la colonne FULL_PROJECT_NUMBER.\n",
    "    * Pour les années plus récentes, on a aussi de nouvelles colonnes DIRECT_COST_AMT et INDIRECT_COST_AMT. En général, DIRECT_COST_AMT +  INDIRECT_COST_AMT = TOTAL_COST, mais parfois ce n'est pas le cas (par exemple, pour le APPLICATION_ID 8857469 qui n'a pourtant pas de sous-projet)."
   ]
  },
  {
   "cell_type": "markdown",
   "metadata": {
    "id": "xtqSHg8_3i05"
   },
   "source": [
    "# Imports"
   ]
  },
  {
   "cell_type": "code",
   "execution_count": 2,
   "metadata": {
    "id": "alc-1Vul3oaz"
   },
   "outputs": [],
   "source": [
    "import csv\n",
    "import codecs\n",
    "import pandas as pd\n",
    "import itertools\n",
    "import re\n",
    "from datetime import datetime\n",
    "from utils.csv_headers import *\n",
    "import random"
   ]
  },
  {
   "cell_type": "markdown",
   "metadata": {
    "tags": []
   },
   "source": [
    "# Data Subsetting"
   ]
  },
  {
   "cell_type": "markdown",
   "metadata": {},
   "source": [
    "### Approche 1"
   ]
  },
  {
   "cell_type": "code",
   "execution_count": 5,
   "metadata": {},
   "outputs": [
    {
     "name": "stdout",
     "output_type": "stream",
     "text": [
      "count_f:  127228\n",
      "count_m:  272183\n",
      "count_null:  62022\n",
      "sum:  461433\n"
     ]
    }
   ],
   "source": [
    "# check consistency of gender % for a specific period of time\n",
    "\n",
    "def str_to_int(string):\n",
    "    try:\n",
    "        return int(string)\n",
    "    except ValueError as a:\n",
    "        return None\n",
    "\n",
    "\n",
    "with codecs.open('content/enhanced-output.csv', 'r', encoding='UTF-8') as csv_file_descriptor:\n",
    "    dataset = csv.DictReader(csv_file_descriptor, delimiter=',', quotechar='\"')\n",
    "    \n",
    "    count_f = 0\n",
    "    count_m = 0\n",
    "    count_null = 0\n",
    "\n",
    "    for row in dataset:\n",
    "        FY_int = str_to_int(row[FY])\n",
    "        if FY_int in range(2015, 2021):\n",
    "            if row[CONTACT_PI_GENDER] == 'F':\n",
    "                count_f += 1\n",
    "            elif row[CONTACT_PI_GENDER] == 'M':\n",
    "                count_m += 1\n",
    "            else:\n",
    "                count_null += 1\n",
    "\n",
    "    print(\"count_f: \", count_f)\n",
    "    print(\"count_m: \", count_m)\n",
    "    print(\"count_null: \", count_null)\n",
    "    print(\"sum: \", count_f + count_m + count_null)"
   ]
  },
  {
   "cell_type": "markdown",
   "metadata": {},
   "source": [
    "### Approche 2"
   ]
  },
  {
   "cell_type": "code",
   "execution_count": 14,
   "metadata": {},
   "outputs": [],
   "source": [
    "# create a random subset with X% rows\n",
    "\n",
    "SAMPLE_PERCENTAGE = 10\n",
    "\n",
    "def str_to_int(string):\n",
    "    try:\n",
    "        return int(string)\n",
    "    except ValueError as a:\n",
    "        return None\n",
    "\n",
    "with codecs.open('content/enhanced-output.csv', 'r', encoding='UTF-8') as csv_file_descriptor:\n",
    "    dataset = csv.DictReader(csv_file_descriptor, delimiter=',', quotechar='\"')\n",
    "\n",
    "    with codecs.open('content/random_subset.csv', 'w', encoding='utf-8') as output_file:\n",
    "        writer = csv.DictWriter(output_file, fieldnames=dataset.fieldnames, dialect=csv.excel)\n",
    "        writer.writeheader()\n",
    "\n",
    "        for row in dataset:\n",
    "            if random.randrange(0, 100) < SAMPLE_PERCENTAGE:\n",
    "                 writer.writerow(row)"
   ]
  },
  {
   "cell_type": "code",
   "execution_count": 6,
   "metadata": {},
   "outputs": [
    {
     "name": "stdout",
     "output_type": "stream",
     "text": [
      "count_f:  60638\n",
      "count_m:  163014\n",
      "count_null:  31053\n",
      "sum:  254705\n"
     ]
    }
   ],
   "source": [
    "# QA: count number of successful gender assignment for the random-subset\n",
    "\n",
    "with codecs.open('content/random_subset.csv', 'r', encoding='UTF-8') as csv_file_descriptor:\n",
    "    dataset = csv.DictReader(csv_file_descriptor, delimiter=',', quotechar='\"')\n",
    "    \n",
    "    count_f = 0\n",
    "    count_m = 0\n",
    "    count_null = 0\n",
    "\n",
    "    for row in dataset:\n",
    "        if row[CONTACT_PI_GENDER] == 'F':\n",
    "            count_f += 1\n",
    "        elif row[CONTACT_PI_GENDER] == 'M':\n",
    "            count_m += 1\n",
    "        else:\n",
    "            count_null += 1\n",
    "\n",
    "    print(\"count_f: \", count_f)\n",
    "    print(\"count_m: \", count_m)\n",
    "    print(\"count_null: \", count_null)\n",
    "    print(\"sum: \", count_f + count_m + count_null)"
   ]
  },
  {
   "cell_type": "code",
   "execution_count": 4,
   "metadata": {},
   "outputs": [
    {
     "name": "stderr",
     "output_type": "stream",
     "text": [
      "C:\\Users\\cpsar\\.virtualenvs\\NIH_project-34q57iAT\\lib\\site-packages\\IPython\\core\\interactiveshell.py:3251: DtypeWarning: Columns (44) have mixed types.Specify dtype option on import or set low_memory=False.\n",
      "  exec(code_obj, self.user_global_ns, self.user_ns)\n"
     ]
    },
    {
     "data": {
      "text/html": [
       "<div>\n",
       "<style scoped>\n",
       "    .dataframe tbody tr th:only-of-type {\n",
       "        vertical-align: middle;\n",
       "    }\n",
       "\n",
       "    .dataframe tbody tr th {\n",
       "        vertical-align: top;\n",
       "    }\n",
       "\n",
       "    .dataframe thead th {\n",
       "        text-align: right;\n",
       "    }\n",
       "</style>\n",
       "<table border=\"1\" class=\"dataframe\">\n",
       "  <thead>\n",
       "    <tr style=\"text-align: right;\">\n",
       "      <th></th>\n",
       "      <th>APPLICATION_ID</th>\n",
       "      <th>ACTIVITY</th>\n",
       "      <th>ADMINISTERING_IC</th>\n",
       "      <th>APPLICATION_TYPE</th>\n",
       "      <th>ARRA_FUNDED</th>\n",
       "      <th>AWARD_NOTICE_DATE</th>\n",
       "      <th>BUDGET_START</th>\n",
       "      <th>BUDGET_END</th>\n",
       "      <th>CFDA_CODE</th>\n",
       "      <th>CORE_PROJECT_NUM</th>\n",
       "      <th>...</th>\n",
       "      <th>SERIAL_NUMBER</th>\n",
       "      <th>STUDY_SECTION</th>\n",
       "      <th>STUDY_SECTION_NAME</th>\n",
       "      <th>SUBPROJECT_ID</th>\n",
       "      <th>SUFFIX</th>\n",
       "      <th>SUPPORT_YEAR</th>\n",
       "      <th>DIRECT_COST_AMT</th>\n",
       "      <th>INDIRECT_COST_AMT</th>\n",
       "      <th>TOTAL_COST</th>\n",
       "      <th>TOTAL_COST_SUB_PROJECT</th>\n",
       "    </tr>\n",
       "  </thead>\n",
       "  <tbody>\n",
       "    <tr>\n",
       "      <th>0</th>\n",
       "      <td>3001993</td>\n",
       "      <td>A19</td>\n",
       "      <td>AH</td>\n",
       "      <td>1.0</td>\n",
       "      <td>NaN</td>\n",
       "      <td>NaN</td>\n",
       "      <td>7/1/1985</td>\n",
       "      <td>6/30/1986</td>\n",
       "      <td>NaN</td>\n",
       "      <td>A19AH000173</td>\n",
       "      <td>...</td>\n",
       "      <td>173</td>\n",
       "      <td>STC</td>\n",
       "      <td>NaN</td>\n",
       "      <td>NaN</td>\n",
       "      <td>NaN</td>\n",
       "      <td>1.0</td>\n",
       "      <td>NaN</td>\n",
       "      <td>NaN</td>\n",
       "      <td>NaN</td>\n",
       "      <td>NaN</td>\n",
       "    </tr>\n",
       "    <tr>\n",
       "      <th>1</th>\n",
       "      <td>3002019</td>\n",
       "      <td>A19</td>\n",
       "      <td>AH</td>\n",
       "      <td>1.0</td>\n",
       "      <td>NaN</td>\n",
       "      <td>NaN</td>\n",
       "      <td>7/1/1985</td>\n",
       "      <td>6/30/1986</td>\n",
       "      <td>NaN</td>\n",
       "      <td>A19AH000200</td>\n",
       "      <td>...</td>\n",
       "      <td>200</td>\n",
       "      <td>STC</td>\n",
       "      <td>NaN</td>\n",
       "      <td>NaN</td>\n",
       "      <td>NaN</td>\n",
       "      <td>1.0</td>\n",
       "      <td>NaN</td>\n",
       "      <td>NaN</td>\n",
       "      <td>NaN</td>\n",
       "      <td>NaN</td>\n",
       "    </tr>\n",
       "    <tr>\n",
       "      <th>2</th>\n",
       "      <td>3003935</td>\n",
       "      <td>D10</td>\n",
       "      <td>NU</td>\n",
       "      <td>1.0</td>\n",
       "      <td>NaN</td>\n",
       "      <td>NaN</td>\n",
       "      <td>2/1/1985</td>\n",
       "      <td>1/31/1988</td>\n",
       "      <td>NaN</td>\n",
       "      <td>D10NU024219</td>\n",
       "      <td>...</td>\n",
       "      <td>24219</td>\n",
       "      <td>PGR</td>\n",
       "      <td>NaN</td>\n",
       "      <td>NaN</td>\n",
       "      <td>NaN</td>\n",
       "      <td>1.0</td>\n",
       "      <td>NaN</td>\n",
       "      <td>NaN</td>\n",
       "      <td>NaN</td>\n",
       "      <td>NaN</td>\n",
       "    </tr>\n",
       "    <tr>\n",
       "      <th>3</th>\n",
       "      <td>3004120</td>\n",
       "      <td>D10</td>\n",
       "      <td>NU</td>\n",
       "      <td>5.0</td>\n",
       "      <td>NaN</td>\n",
       "      <td>NaN</td>\n",
       "      <td>8/1/1985</td>\n",
       "      <td>7/31/1986</td>\n",
       "      <td>NaN</td>\n",
       "      <td>D10NU025143</td>\n",
       "      <td>...</td>\n",
       "      <td>25143</td>\n",
       "      <td>PGR</td>\n",
       "      <td>NaN</td>\n",
       "      <td>NaN</td>\n",
       "      <td>NaN</td>\n",
       "      <td>3.0</td>\n",
       "      <td>NaN</td>\n",
       "      <td>NaN</td>\n",
       "      <td>NaN</td>\n",
       "      <td>NaN</td>\n",
       "    </tr>\n",
       "    <tr>\n",
       "      <th>4</th>\n",
       "      <td>3005815</td>\n",
       "      <td>D15</td>\n",
       "      <td>PE</td>\n",
       "      <td>5.0</td>\n",
       "      <td>NaN</td>\n",
       "      <td>NaN</td>\n",
       "      <td>7/1/1985</td>\n",
       "      <td>6/30/1986</td>\n",
       "      <td>NaN</td>\n",
       "      <td>D15PE014261</td>\n",
       "      <td>...</td>\n",
       "      <td>14261</td>\n",
       "      <td>STC</td>\n",
       "      <td>NaN</td>\n",
       "      <td>NaN</td>\n",
       "      <td>NaN</td>\n",
       "      <td>2.0</td>\n",
       "      <td>NaN</td>\n",
       "      <td>NaN</td>\n",
       "      <td>NaN</td>\n",
       "      <td>NaN</td>\n",
       "    </tr>\n",
       "  </tbody>\n",
       "</table>\n",
       "<p>5 rows × 54 columns</p>\n",
       "</div>"
      ],
      "text/plain": [
       "   APPLICATION_ID ACTIVITY ADMINISTERING_IC  APPLICATION_TYPE ARRA_FUNDED  \\\n",
       "0         3001993      A19               AH               1.0         NaN   \n",
       "1         3002019      A19               AH               1.0         NaN   \n",
       "2         3003935      D10               NU               1.0         NaN   \n",
       "3         3004120      D10               NU               5.0         NaN   \n",
       "4         3005815      D15               PE               5.0         NaN   \n",
       "\n",
       "  AWARD_NOTICE_DATE BUDGET_START BUDGET_END  CFDA_CODE CORE_PROJECT_NUM  ...  \\\n",
       "0               NaN     7/1/1985  6/30/1986        NaN      A19AH000173  ...   \n",
       "1               NaN     7/1/1985  6/30/1986        NaN      A19AH000200  ...   \n",
       "2               NaN     2/1/1985  1/31/1988        NaN      D10NU024219  ...   \n",
       "3               NaN     8/1/1985  7/31/1986        NaN      D10NU025143  ...   \n",
       "4               NaN     7/1/1985  6/30/1986        NaN      D15PE014261  ...   \n",
       "\n",
       "  SERIAL_NUMBER STUDY_SECTION STUDY_SECTION_NAME SUBPROJECT_ID SUFFIX  \\\n",
       "0           173           STC                NaN           NaN    NaN   \n",
       "1           200           STC                NaN           NaN    NaN   \n",
       "2         24219           PGR                NaN           NaN    NaN   \n",
       "3         25143           PGR                NaN           NaN    NaN   \n",
       "4         14261           STC                NaN           NaN    NaN   \n",
       "\n",
       "   SUPPORT_YEAR DIRECT_COST_AMT INDIRECT_COST_AMT TOTAL_COST  \\\n",
       "0           1.0             NaN               NaN        NaN   \n",
       "1           1.0             NaN               NaN        NaN   \n",
       "2           1.0             NaN               NaN        NaN   \n",
       "3           3.0             NaN               NaN        NaN   \n",
       "4           2.0             NaN               NaN        NaN   \n",
       "\n",
       "  TOTAL_COST_SUB_PROJECT  \n",
       "0                    NaN  \n",
       "1                    NaN  \n",
       "2                    NaN  \n",
       "3                    NaN  \n",
       "4                    NaN  \n",
       "\n",
       "[5 rows x 54 columns]"
      ]
     },
     "execution_count": 4,
     "metadata": {},
     "output_type": "execute_result"
    }
   ],
   "source": [
    "dataset = pd.read_csv('content/random_subset.csv')\n",
    "dataset.head()"
   ]
  },
  {
   "cell_type": "markdown",
   "metadata": {},
   "source": [
    "### Approche 3"
   ]
  },
  {
   "cell_type": "code",
   "execution_count": 12,
   "metadata": {},
   "outputs": [
    {
     "name": "stdout",
     "output_type": "stream",
     "text": [
      "count_r01_f:  197157\n",
      "count_r01_m:  612168\n",
      "count_r01_null:  85977\n",
      "sum_r01:  895302\n",
      "count_r01:  895302\n"
     ]
    }
   ],
   "source": [
    "# compter la répartition F-H-NULL pour les subventions R01, pour tout le dataset entier\n",
    "\n",
    "with codecs.open('content/enhanced-output.csv', 'r', encoding='UTF-8') as csv_file_descriptor:\n",
    "    dataset = csv.DictReader(csv_file_descriptor, delimiter=',', quotechar='\"')\n",
    "    \n",
    "    count_r01 = 0\n",
    "    count_r01_f = 0\n",
    "    count_r01_m = 0\n",
    "    count_r01_null = 0\n",
    "    \n",
    "    for row in dataset:\n",
    "        if row[ACTIVITY] == 'R01':\n",
    "            count_r01 += 1\n",
    "            if row[CONTACT_PI_GENDER] == 'F':\n",
    "                count_r01_f += 1\n",
    "            elif row[CONTACT_PI_GENDER] == 'M':\n",
    "                count_r01_m += 1\n",
    "            else:\n",
    "                count_r01_null += 1\n",
    "\n",
    "    print(\"count_r01_f: \", count_r01_f)\n",
    "    print(\"count_r01_m: \", count_r01_m)\n",
    "    print(\"count_r01_null: \", count_r01_null)\n",
    "    print(\"sum_r01: \", count_r01_f + count_r01_m + count_r01_null) # should be the same as count_r01\n",
    "    print(\"count_r01: \", count_r01)"
   ]
  },
  {
   "cell_type": "markdown",
   "metadata": {},
   "source": [
    "# Subset Cleaning"
   ]
  },
  {
   "cell_type": "code",
   "execution_count": 5,
   "metadata": {},
   "outputs": [],
   "source": [
    "# Removing lines and columns to reduce the scope of the project\n",
    "\n",
    "subset_headers = [APPLICATION_ID,\n",
    "                  CONTACT_PI_NAME, \n",
    "                  CONTACT_PI_GENDER, \n",
    "                  NB_PI_NAMES, \n",
    "                  ORG_COUNTRY, \n",
    "                  ORG_STATE, \n",
    "                  ORG_NAME, \n",
    "                  PROJECT_START, \n",
    "                  PROJECT_END, \n",
    "                  PROJECT_TITLE, \n",
    "                  PROJECT_TERMS, \n",
    "                  TOTAL_COST]\n",
    "\n",
    "subset_headers_set = set(subset_headers) #on crée un set parce que c'est indexé et python va parcourir plus vite que lire une liste\n",
    "\n",
    "\n",
    "with codecs.open('content/enhanced-output.csv', 'r', encoding='UTF-8') as csv_file_descriptor:\n",
    "    dataset = csv.DictReader(csv_file_descriptor, delimiter=',', quotechar='\"')\n",
    "\n",
    "    with codecs.open('content/cleaned_subset.csv', 'w', encoding='utf-8') as output_file:\n",
    "        writer = csv.DictWriter(output_file, fieldnames=subset_headers, dialect=csv.excel)\n",
    "        writer.writeheader()\n",
    "\n",
    "        for row in dataset:\n",
    "            if row[ACTIVITY] == 'R01' and \\\n",
    "                row[APPLICATION_TYPE] == '1' and \\\n",
    "                row[FY] == '2020' and \\\n",
    "                row[SUPPORT_YEAR] == '01' and \\\n",
    "                row[TOTAL_COST] != '' and (\n",
    "                row[CONTACT_PI_GENDER] == 'F' or\n",
    "                row[CONTACT_PI_GENDER] == 'M'\n",
    "            ):\n",
    "                subset_row = {}\n",
    "                for key, value in row.items():\n",
    "                    if key in subset_headers_set:\n",
    "                        subset_row[key] = value\n",
    "                writer.writerow(subset_row)"
   ]
  },
  {
   "cell_type": "code",
   "execution_count": 6,
   "metadata": {},
   "outputs": [
    {
     "ename": "KeyError",
     "evalue": "'ACTIVITY'",
     "output_type": "error",
     "traceback": [
      "\u001b[1;31m---------------------------------------------------------------------------\u001b[0m",
      "\u001b[1;31mKeyError\u001b[0m                                  Traceback (most recent call last)",
      "Input \u001b[1;32mIn [6]\u001b[0m, in \u001b[0;36m<module>\u001b[1;34m\u001b[0m\n\u001b[0;32m     10\u001b[0m count_other_activities \u001b[38;5;241m=\u001b[39m \u001b[38;5;241m0\u001b[39m\n\u001b[0;32m     12\u001b[0m \u001b[38;5;28;01mfor\u001b[39;00m row \u001b[38;5;129;01min\u001b[39;00m dataset:\n\u001b[1;32m---> 13\u001b[0m     \u001b[38;5;28;01mif\u001b[39;00m \u001b[43mrow\u001b[49m\u001b[43m[\u001b[49m\u001b[43mACTIVITY\u001b[49m\u001b[43m]\u001b[49m \u001b[38;5;241m==\u001b[39m \u001b[38;5;124m'\u001b[39m\u001b[38;5;124mR01\u001b[39m\u001b[38;5;124m'\u001b[39m:\n\u001b[0;32m     14\u001b[0m         count_r01 \u001b[38;5;241m+\u001b[39m\u001b[38;5;241m=\u001b[39m \u001b[38;5;241m1\u001b[39m\n\u001b[0;32m     15\u001b[0m         \u001b[38;5;28;01mif\u001b[39;00m row[CONTACT_PI_GENDER] \u001b[38;5;241m==\u001b[39m \u001b[38;5;124m'\u001b[39m\u001b[38;5;124mF\u001b[39m\u001b[38;5;124m'\u001b[39m:\n",
      "\u001b[1;31mKeyError\u001b[0m: 'ACTIVITY'"
     ]
    }
   ],
   "source": [
    "# QA on the cleaned subset\n",
    "\n",
    "with codecs.open('content/cleaned_subset.csv', 'r', encoding='UTF-8') as csv_file_descriptor:\n",
    "    dataset = csv.DictReader(csv_file_descriptor, delimiter=',', quotechar='\"')\n",
    "    \n",
    "    count_r01 = 0\n",
    "    count_r01_f = 0\n",
    "    count_r01_m = 0\n",
    "    count_r01_null = 0\n",
    "    count_other_activities = 0\n",
    "    \n",
    "    for row in dataset:\n",
    "        if row[ACTIVITY] == 'R01':\n",
    "            count_r01 += 1\n",
    "            if row[CONTACT_PI_GENDER] == 'F':\n",
    "                count_r01_f += 1\n",
    "            elif row[CONTACT_PI_GENDER] == 'M':\n",
    "                count_r01_m += 1\n",
    "            else:\n",
    "                count_r01_null += 1\n",
    "        else:\n",
    "            count_other_activities += 1\n",
    "\n",
    "    print(\"count_r01_f: \", count_r01_f)\n",
    "    print(\"count_r01_m: \", count_r01_m)\n",
    "    print(\"count_r01_null: \", count_r01_null)\n",
    "    print(\"sum_r01: \", count_r01_f + count_r01_m + count_r01_null) # should be the same as count_r01\n",
    "    print(\"count_r01: \", count_r01)\n",
    "    print(\"count_other_activities: \", count_other_activities)"
   ]
  },
  {
   "cell_type": "code",
   "execution_count": null,
   "metadata": {},
   "outputs": [],
   "source": []
  }
 ],
 "metadata": {
  "colab": {
   "collapsed_sections": [],
   "name": "NIH-RePORTER-preprocessing.ipynb",
   "provenance": []
  },
  "kernelspec": {
   "display_name": "Python 3 (ipykernel)",
   "language": "python",
   "name": "python3"
  },
  "language_info": {
   "codemirror_mode": {
    "name": "ipython",
    "version": 3
   },
   "file_extension": ".py",
   "mimetype": "text/x-python",
   "name": "python",
   "nbconvert_exporter": "python",
   "pygments_lexer": "ipython3",
   "version": "3.10.1"
  }
 },
 "nbformat": 4,
 "nbformat_minor": 4
}
