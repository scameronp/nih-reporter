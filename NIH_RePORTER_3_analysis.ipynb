{
 "cells": [
  {
   "cell_type": "markdown",
   "id": "b32f6d0a-6bda-485c-9737-283633c91354",
   "metadata": {},
   "source": [
    "# Imports"
   ]
  },
  {
   "cell_type": "code",
   "execution_count": 29,
   "id": "6b039084-09d4-4a3d-8b32-08f3d817fc42",
   "metadata": {},
   "outputs": [],
   "source": [
    "import csv\n",
    "import pandas as pd\n",
    "from utils.csv_headers import *\n",
    "import seaborn as sns"
   ]
  },
  {
   "cell_type": "markdown",
   "id": "823dc775-d93f-4c0a-9aea-f71dd7a690a9",
   "metadata": {
    "id": "qeZ9IpfT_ejF"
   },
   "source": [
    "# High-level exploration"
   ]
  },
  {
   "cell_type": "code",
   "execution_count": null,
   "id": "ef33729f-83b5-44a9-b426-2a211282c340",
   "metadata": {
    "colab": {
     "base_uri": "https://localhost:8080/"
    },
    "id": "hpmrQJDe7Jva",
    "outputId": "2d08c255-e196-462a-8808-b8df1c0d151b"
   },
   "outputs": [
    {
     "name": "stdout",
     "output_type": "stream",
     "text": [
      "count_f:  603453\n",
      "count_m:  1627218\n",
      "count_null:  308878\n",
      "sum:  2539549\n"
     ]
    }
   ],
   "source": [
    "# count number of successful gender assignment\n",
    "\n",
    "with open('content/enhanced-output.csv', 'r', encoding='utf-8') as csv_file_descriptor:\n",
    "    dataset = csv.DictReader(csv_file_descriptor, delimiter=',', quotechar='\"')\n",
    "    \n",
    "    count_f = 0\n",
    "    count_m = 0\n",
    "    count_null = 0\n",
    "\n",
    "    for row in dataset:\n",
    "        if row[CONTACT_PI_GENDER] == 'F':\n",
    "            count_f += 1\n",
    "        elif row[CONTACT_PI_GENDER] == 'M':\n",
    "            count_m += 1\n",
    "        else:\n",
    "            count_null += 1\n",
    "\n",
    "    print(\"count_f: \", count_f)\n",
    "    print(\"count_m: \", count_m)\n",
    "    print(\"count_null: \", count_null)\n",
    "    print(\"sum: \", count_f + count_m + count_null)"
   ]
  },
  {
   "cell_type": "markdown",
   "id": "30766d65-71f0-47e7-9de7-41e2634e7c2b",
   "metadata": {
    "id": "ISO8kKdUrwdd"
   },
   "source": [
    "| gender    \t| nb of rows   \t|% of rows   \t|\n",
    "|:-------------\t|-----------:\t|-----------:\t|\n",
    "| count_f:    \t| 603 453   \t|23,76 %   \t   \t|\n",
    "| count_m:    \t| 1 627 218   \t|64,08 %   \t   \t|\n",
    "| count_null: \t| 308 878   \t|12,16 %   \t   \t|\n",
    "| sum w/ null:  | 2 539 549 \t|100,00 % \t   \t|\n",
    "\n",
    "\n",
    "| gender    \t| nb of rows   \t|% of rows   \t|\n",
    "|:-------------\t|-----------:\t|-----------:\t|\n",
    "| count_f:    \t| 603 453   \t|27,05 %   \t   \t|\n",
    "| count_m:    \t| 1 627 218   \t|72,95 %   \t   \t|\n",
    "| sum w/o null: | 2 230 671 \t|100,00 % \t   \t|\n",
    "\n",
    "\n",
    "Those preliminary matching results are consistent with literature on the composition of the scientific workforce:\n",
    "\n",
    "> \"At the global level, women account for less than a third of scientists and engineers (1); a percentage that is similar to their proportion of scientific authorships (2). In the United States, women represent 28.4% of the scientific workforce, and this percentage varies by domain, with a high of 72.8% in psychology and a low of 14.5% in engineering (3).\" https://doi.org/10.1073/pnas.2113067119\n",
    "\n",
    "The recall rate could be improved in future iterations (by combining with another dataset or by manually assigning gender). "
   ]
  },
  {
   "cell_type": "markdown",
   "id": "552b68f6-cf3c-4659-b7d8-4758f83cfbb7",
   "metadata": {},
   "source": [
    "# Exploring the cleaned subset"
   ]
  },
  {
   "cell_type": "code",
   "execution_count": 30,
   "id": "1c22ac6e-491e-4652-8fb0-12e4116c7ba9",
   "metadata": {},
   "outputs": [
    {
     "data": {
      "text/html": [
       "<div>\n",
       "<style scoped>\n",
       "    .dataframe tbody tr th:only-of-type {\n",
       "        vertical-align: middle;\n",
       "    }\n",
       "\n",
       "    .dataframe tbody tr th {\n",
       "        vertical-align: top;\n",
       "    }\n",
       "\n",
       "    .dataframe thead th {\n",
       "        text-align: right;\n",
       "    }\n",
       "</style>\n",
       "<table border=\"1\" class=\"dataframe\">\n",
       "  <thead>\n",
       "    <tr style=\"text-align: right;\">\n",
       "      <th></th>\n",
       "      <th>APPLICATION_ID</th>\n",
       "      <th>CONTACT_PI_NAME</th>\n",
       "      <th>CONTACT_PI_GENDER</th>\n",
       "      <th>NB_PI_NAMES</th>\n",
       "      <th>ORG_COUNTRY</th>\n",
       "      <th>ORG_STATE</th>\n",
       "      <th>ORG_NAME</th>\n",
       "      <th>PROJECT_START</th>\n",
       "      <th>PROJECT_END</th>\n",
       "      <th>PROJECT_TITLE</th>\n",
       "      <th>PROJECT_TERMS</th>\n",
       "      <th>TOTAL_COST</th>\n",
       "    </tr>\n",
       "  </thead>\n",
       "  <tbody>\n",
       "    <tr>\n",
       "      <th>0</th>\n",
       "      <td>10152786</td>\n",
       "      <td>OLDENBURG, AMY L (contact)</td>\n",
       "      <td>F</td>\n",
       "      <td>2</td>\n",
       "      <td>UNITED STATES</td>\n",
       "      <td>NC</td>\n",
       "      <td>UNIV OF NORTH CAROLINA CHAPEL HILL</td>\n",
       "      <td>09/28/2020</td>\n",
       "      <td>06/30/2025</td>\n",
       "      <td>Developing an in vitro to in vivo pipeline of ...</td>\n",
       "      <td>3-Dimensional; Acids; Affect; Animals; Archite...</td>\n",
       "      <td>559511</td>\n",
       "    </tr>\n",
       "    <tr>\n",
       "      <th>1</th>\n",
       "      <td>10052974</td>\n",
       "      <td>VARAS-DIAZ, NELSON  (contact)</td>\n",
       "      <td>M</td>\n",
       "      <td>3</td>\n",
       "      <td>UNITED STATES</td>\n",
       "      <td>FL</td>\n",
       "      <td>FLORIDA INTERNATIONAL UNIVERSITY</td>\n",
       "      <td>07/29/2020</td>\n",
       "      <td>02/29/2024</td>\n",
       "      <td>Physician Migration and its Implications for P...</td>\n",
       "      <td>Address; Affect; Appointment; Area; base; care...</td>\n",
       "      <td>664019</td>\n",
       "    </tr>\n",
       "    <tr>\n",
       "      <th>2</th>\n",
       "      <td>9914554</td>\n",
       "      <td>DEROSA, EVE  (contact)</td>\n",
       "      <td>F</td>\n",
       "      <td>2</td>\n",
       "      <td>UNITED STATES</td>\n",
       "      <td>NY</td>\n",
       "      <td>CORNELL UNIVERSITY</td>\n",
       "      <td>05/15/2020</td>\n",
       "      <td>02/28/2025</td>\n",
       "      <td>Basal Forebrain connections to the heart and m...</td>\n",
       "      <td>Acetylcholine; age related; Aging; Alzheimer's...</td>\n",
       "      <td>612832</td>\n",
       "    </tr>\n",
       "    <tr>\n",
       "      <th>3</th>\n",
       "      <td>10053211</td>\n",
       "      <td>FAN, ZHAOYANG  (contact)</td>\n",
       "      <td>M</td>\n",
       "      <td>2</td>\n",
       "      <td>UNITED STATES</td>\n",
       "      <td>CA</td>\n",
       "      <td>CEDARS-SINAI MEDICAL CENTER</td>\n",
       "      <td>07/01/2020</td>\n",
       "      <td>10/31/2020</td>\n",
       "      <td>Multi-Task MR Simulation for Abdominal Radiati...</td>\n",
       "      <td>3-Dimensional; 4D MRI; Abdomen; Adoption; Agre...</td>\n",
       "      <td>556712</td>\n",
       "    </tr>\n",
       "    <tr>\n",
       "      <th>4</th>\n",
       "      <td>10055540</td>\n",
       "      <td>CHOU, DANNY HUNG-CHIEH</td>\n",
       "      <td>M</td>\n",
       "      <td>1</td>\n",
       "      <td>UNITED STATES</td>\n",
       "      <td>CA</td>\n",
       "      <td>STANFORD UNIVERSITY</td>\n",
       "      <td>07/01/2020</td>\n",
       "      <td>03/31/2024</td>\n",
       "      <td>Development of long-acting glucose-responsive ...</td>\n",
       "      <td>absorption; Acids; aggressive therapy; analog;...</td>\n",
       "      <td>643846</td>\n",
       "    </tr>\n",
       "  </tbody>\n",
       "</table>\n",
       "</div>"
      ],
      "text/plain": [
       "   APPLICATION_ID                CONTACT_PI_NAME CONTACT_PI_GENDER  \\\n",
       "0        10152786     OLDENBURG, AMY L (contact)                 F   \n",
       "1        10052974  VARAS-DIAZ, NELSON  (contact)                 M   \n",
       "2         9914554         DEROSA, EVE  (contact)                 F   \n",
       "3        10053211       FAN, ZHAOYANG  (contact)                 M   \n",
       "4        10055540         CHOU, DANNY HUNG-CHIEH                 M   \n",
       "\n",
       "   NB_PI_NAMES    ORG_COUNTRY ORG_STATE                            ORG_NAME  \\\n",
       "0            2  UNITED STATES        NC  UNIV OF NORTH CAROLINA CHAPEL HILL   \n",
       "1            3  UNITED STATES        FL    FLORIDA INTERNATIONAL UNIVERSITY   \n",
       "2            2  UNITED STATES        NY                  CORNELL UNIVERSITY   \n",
       "3            2  UNITED STATES        CA         CEDARS-SINAI MEDICAL CENTER   \n",
       "4            1  UNITED STATES        CA                 STANFORD UNIVERSITY   \n",
       "\n",
       "  PROJECT_START PROJECT_END  \\\n",
       "0    09/28/2020  06/30/2025   \n",
       "1    07/29/2020  02/29/2024   \n",
       "2    05/15/2020  02/28/2025   \n",
       "3    07/01/2020  10/31/2020   \n",
       "4    07/01/2020  03/31/2024   \n",
       "\n",
       "                                       PROJECT_TITLE  \\\n",
       "0  Developing an in vitro to in vivo pipeline of ...   \n",
       "1  Physician Migration and its Implications for P...   \n",
       "2  Basal Forebrain connections to the heart and m...   \n",
       "3  Multi-Task MR Simulation for Abdominal Radiati...   \n",
       "4  Development of long-acting glucose-responsive ...   \n",
       "\n",
       "                                       PROJECT_TERMS  TOTAL_COST  \n",
       "0  3-Dimensional; Acids; Affect; Animals; Archite...      559511  \n",
       "1  Address; Affect; Appointment; Area; base; care...      664019  \n",
       "2  Acetylcholine; age related; Aging; Alzheimer's...      612832  \n",
       "3  3-Dimensional; 4D MRI; Abdomen; Adoption; Agre...      556712  \n",
       "4  absorption; Acids; aggressive therapy; analog;...      643846  "
      ]
     },
     "execution_count": 30,
     "metadata": {},
     "output_type": "execute_result"
    }
   ],
   "source": [
    "dataset = pd.read_csv('content/cleaned_subset.csv')\n",
    "dataset.head()"
   ]
  },
  {
   "cell_type": "code",
   "execution_count": 24,
   "id": "5ac3d44d-32fc-4e76-b376-1475f3f6fcce",
   "metadata": {},
   "outputs": [
    {
     "data": {
      "text/plain": [
       "array(['APPLICATION_ID', 'CONTACT_PI_NAME', 'CONTACT_PI_GENDER',\n",
       "       'NB_PI_NAMES', 'ORG_COUNTRY', 'ORG_STATE', 'ORG_NAME',\n",
       "       'PROJECT_START', 'PROJECT_END', 'PROJECT_TITLE', 'PROJECT_TERMS',\n",
       "       'TOTAL_COST'], dtype=object)"
      ]
     },
     "execution_count": 24,
     "metadata": {},
     "output_type": "execute_result"
    }
   ],
   "source": [
    "dataset.columns.values"
   ]
  },
  {
   "cell_type": "code",
   "execution_count": 25,
   "id": "1b22816a-b300-4754-b97f-871d775c6622",
   "metadata": {},
   "outputs": [
    {
     "name": "stdout",
     "output_type": "stream",
     "text": [
      "Shape of our dataset:  (4484, 12)\n",
      "Size of our dataset:  53808\n"
     ]
    }
   ],
   "source": [
    "print(\"Shape of our dataset: \", dataset.shape)\n",
    "print('Size of our dataset: ', dataset.size)"
   ]
  },
  {
   "cell_type": "code",
   "execution_count": 26,
   "id": "45909e74-b22d-4689-b815-193e7b6eb225",
   "metadata": {},
   "outputs": [
    {
     "name": "stdout",
     "output_type": "stream",
     "text": [
      "Number of male/female contact PIs: \n",
      "M    2961\n",
      "F    1523\n",
      "Name: CONTACT_PI_GENDER, dtype: int64\n"
     ]
    }
   ],
   "source": [
    "print(\"Number of male/female contact PIs: \")\n",
    "print(dataset.CONTACT_PI_GENDER.value_counts())"
   ]
  },
  {
   "cell_type": "code",
   "execution_count": 59,
   "id": "8561d1bf-10ae-4cf5-a5ce-fdf785042508",
   "metadata": {},
   "outputs": [
    {
     "name": "stdout",
     "output_type": "stream",
     "text": [
      "Percentage of male/female contact PIs: \n",
      "M    0.660348\n",
      "F    0.339652\n",
      "Name: CONTACT_PI_GENDER, dtype: float64\n"
     ]
    }
   ],
   "source": [
    "print(\"Percentage of male/female contact PIs: \")\n",
    "print(dataset.CONTACT_PI_GENDER.value_counts(normalize=True))"
   ]
  },
  {
   "cell_type": "code",
   "execution_count": 80,
   "id": "a653fbea-0e9e-4153-8865-117843161fa0",
   "metadata": {},
   "outputs": [
    {
     "ename": "AttributeError",
     "evalue": "'DataFrame' object has no attribute 'sort'",
     "output_type": "error",
     "traceback": [
      "\u001b[1;31m---------------------------------------------------------------------------\u001b[0m",
      "\u001b[1;31mAttributeError\u001b[0m                            Traceback (most recent call last)",
      "Input \u001b[1;32mIn [80]\u001b[0m, in \u001b[0;36m<module>\u001b[1;34m\u001b[0m\n\u001b[0;32m      1\u001b[0m \u001b[38;5;66;03m# Did contact PIs all applied for 1 R01 funding in 2020, or did some applied for more than 1 project? ONLY 1 PROJECT PER CONTACT PI\u001b[39;00m\n\u001b[0;32m      2\u001b[0m \n\u001b[0;32m      3\u001b[0m \u001b[38;5;66;03m#df_agg = dataset.groupby('APPLICATION_ID').size().reset_index(name='count')\u001b[39;00m\n\u001b[0;32m      4\u001b[0m \u001b[38;5;66;03m#df_agg.where(df_agg['count'] > 1).dropna()\u001b[39;00m\n\u001b[1;32m----> 6\u001b[0m df_agg \u001b[38;5;241m=\u001b[39m \u001b[43mdataset\u001b[49m\u001b[38;5;241;43m.\u001b[39;49m\u001b[43mgroupby\u001b[49m\u001b[43m(\u001b[49m\u001b[43mby\u001b[49m\u001b[38;5;241;43m=\u001b[39;49m\u001b[38;5;124;43m'\u001b[39;49m\u001b[38;5;124;43mAPPLICATION_ID\u001b[39;49m\u001b[38;5;124;43m'\u001b[39;49m\u001b[43m,\u001b[49m\u001b[43m \u001b[49m\u001b[43mdropna\u001b[49m\u001b[38;5;241;43m=\u001b[39;49m\u001b[38;5;28;43;01mTrue\u001b[39;49;00m\u001b[43m)\u001b[49m\u001b[38;5;241;43m.\u001b[39;49m\u001b[43magg\u001b[49m\u001b[43m(\u001b[49m\u001b[38;5;124;43m'\u001b[39;49m\u001b[38;5;124;43mcount\u001b[39;49m\u001b[38;5;124;43m'\u001b[39;49m\u001b[43m)\u001b[49m\u001b[38;5;241;43m.\u001b[39;49m\u001b[43msort\u001b[49m()\n",
      "File \u001b[1;32m~\\.virtualenvs\\NIH_project-34q57iAT\\lib\\site-packages\\pandas\\core\\generic.py:5487\u001b[0m, in \u001b[0;36mNDFrame.__getattr__\u001b[1;34m(self, name)\u001b[0m\n\u001b[0;32m   5480\u001b[0m \u001b[38;5;28;01mif\u001b[39;00m (\n\u001b[0;32m   5481\u001b[0m     name \u001b[38;5;129;01mnot\u001b[39;00m \u001b[38;5;129;01min\u001b[39;00m \u001b[38;5;28mself\u001b[39m\u001b[38;5;241m.\u001b[39m_internal_names_set\n\u001b[0;32m   5482\u001b[0m     \u001b[38;5;129;01mand\u001b[39;00m name \u001b[38;5;129;01mnot\u001b[39;00m \u001b[38;5;129;01min\u001b[39;00m \u001b[38;5;28mself\u001b[39m\u001b[38;5;241m.\u001b[39m_metadata\n\u001b[0;32m   5483\u001b[0m     \u001b[38;5;129;01mand\u001b[39;00m name \u001b[38;5;129;01mnot\u001b[39;00m \u001b[38;5;129;01min\u001b[39;00m \u001b[38;5;28mself\u001b[39m\u001b[38;5;241m.\u001b[39m_accessors\n\u001b[0;32m   5484\u001b[0m     \u001b[38;5;129;01mand\u001b[39;00m \u001b[38;5;28mself\u001b[39m\u001b[38;5;241m.\u001b[39m_info_axis\u001b[38;5;241m.\u001b[39m_can_hold_identifiers_and_holds_name(name)\n\u001b[0;32m   5485\u001b[0m ):\n\u001b[0;32m   5486\u001b[0m     \u001b[38;5;28;01mreturn\u001b[39;00m \u001b[38;5;28mself\u001b[39m[name]\n\u001b[1;32m-> 5487\u001b[0m \u001b[38;5;28;01mreturn\u001b[39;00m \u001b[38;5;28;43mobject\u001b[39;49m\u001b[38;5;241;43m.\u001b[39;49m\u001b[38;5;21;43m__getattribute__\u001b[39;49m\u001b[43m(\u001b[49m\u001b[38;5;28;43mself\u001b[39;49m\u001b[43m,\u001b[49m\u001b[43m \u001b[49m\u001b[43mname\u001b[49m\u001b[43m)\u001b[49m\n",
      "\u001b[1;31mAttributeError\u001b[0m: 'DataFrame' object has no attribute 'sort'"
     ]
    }
   ],
   "source": [
    "# Did contact PIs all applied for 1 R01 funding in 2020, or did some applied for more than 1 project? ONLY 1 PROJECT PER CONTACT PI\n",
    "\n",
    "#df_agg = dataset.groupby('APPLICATION_ID').size().reset_index(name='count')\n",
    "#df_agg.where(df_agg['count'] > 1).dropna()\n",
    "\n",
    "df_agg = dataset.groupby(by='APPLICATION_ID', dropna=True).agg('count').sort()\n",
    "#df_agg.where(df_agg['count'] > 1)\n"
   ]
  },
  {
   "cell_type": "code",
   "execution_count": null,
   "id": "addcf030-a07c-4037-9c02-5ca50673b23d",
   "metadata": {},
   "outputs": [],
   "source": []
  },
  {
   "cell_type": "code",
   "execution_count": 56,
   "id": "7847838e-049b-4cad-bbbd-2fa6a8f0dec6",
   "metadata": {},
   "outputs": [
    {
     "data": {
      "text/html": [
       "<div>\n",
       "<style scoped>\n",
       "    .dataframe tbody tr th:only-of-type {\n",
       "        vertical-align: middle;\n",
       "    }\n",
       "\n",
       "    .dataframe tbody tr th {\n",
       "        vertical-align: top;\n",
       "    }\n",
       "\n",
       "    .dataframe thead tr th {\n",
       "        text-align: left;\n",
       "    }\n",
       "\n",
       "    .dataframe thead tr:last-of-type th {\n",
       "        text-align: right;\n",
       "    }\n",
       "</style>\n",
       "<table border=\"1\" class=\"dataframe\">\n",
       "  <thead>\n",
       "    <tr>\n",
       "      <th></th>\n",
       "      <th colspan=\"8\" halign=\"left\">TOTAL_COST</th>\n",
       "    </tr>\n",
       "    <tr>\n",
       "      <th></th>\n",
       "      <th>count</th>\n",
       "      <th>mean</th>\n",
       "      <th>std</th>\n",
       "      <th>min</th>\n",
       "      <th>25%</th>\n",
       "      <th>50%</th>\n",
       "      <th>75%</th>\n",
       "      <th>max</th>\n",
       "    </tr>\n",
       "    <tr>\n",
       "      <th>CONTACT_PI_GENDER</th>\n",
       "      <th></th>\n",
       "      <th></th>\n",
       "      <th></th>\n",
       "      <th></th>\n",
       "      <th></th>\n",
       "      <th></th>\n",
       "      <th></th>\n",
       "      <th></th>\n",
       "    </tr>\n",
       "  </thead>\n",
       "  <tbody>\n",
       "    <tr>\n",
       "      <th>F</th>\n",
       "      <td>1523.0</td>\n",
       "      <td>593961.709127</td>\n",
       "      <td>795050.872628</td>\n",
       "      <td>17591.0</td>\n",
       "      <td>391367.5</td>\n",
       "      <td>519566.0</td>\n",
       "      <td>671770.5</td>\n",
       "      <td>24533829.0</td>\n",
       "    </tr>\n",
       "    <tr>\n",
       "      <th>M</th>\n",
       "      <td>2961.0</td>\n",
       "      <td>559410.701790</td>\n",
       "      <td>455375.954157</td>\n",
       "      <td>8390.0</td>\n",
       "      <td>388750.0</td>\n",
       "      <td>497982.0</td>\n",
       "      <td>643055.0</td>\n",
       "      <td>14973241.0</td>\n",
       "    </tr>\n",
       "  </tbody>\n",
       "</table>\n",
       "</div>"
      ],
      "text/plain": [
       "                  TOTAL_COST                                                   \\\n",
       "                       count           mean            std      min       25%   \n",
       "CONTACT_PI_GENDER                                                               \n",
       "F                     1523.0  593961.709127  795050.872628  17591.0  391367.5   \n",
       "M                     2961.0  559410.701790  455375.954157   8390.0  388750.0   \n",
       "\n",
       "                                                   \n",
       "                        50%       75%         max  \n",
       "CONTACT_PI_GENDER                                  \n",
       "F                  519566.0  671770.5  24533829.0  \n",
       "M                  497982.0  643055.0  14973241.0  "
      ]
     },
     "execution_count": 56,
     "metadata": {},
     "output_type": "execute_result"
    }
   ],
   "source": [
    "dataset[[\"CONTACT_PI_GENDER\", \"TOTAL_COST\"]].groupby(\"CONTACT_PI_GENDER\").describe()\n",
    "# 50% = median\n",
    "# count = nb of non-NaN values"
   ]
  },
  {
   "cell_type": "code",
   "execution_count": 64,
   "id": "248b4051-43be-4d72-abe2-846bd4cbf2d4",
   "metadata": {},
   "outputs": [
    {
     "data": {
      "text/html": [
       "<div>\n",
       "<style scoped>\n",
       "    .dataframe tbody tr th:only-of-type {\n",
       "        vertical-align: middle;\n",
       "    }\n",
       "\n",
       "    .dataframe tbody tr th {\n",
       "        vertical-align: top;\n",
       "    }\n",
       "\n",
       "    .dataframe thead tr th {\n",
       "        text-align: left;\n",
       "    }\n",
       "\n",
       "    .dataframe thead tr:last-of-type th {\n",
       "        text-align: right;\n",
       "    }\n",
       "</style>\n",
       "<table border=\"1\" class=\"dataframe\">\n",
       "  <thead>\n",
       "    <tr>\n",
       "      <th></th>\n",
       "      <th colspan=\"8\" halign=\"left\">TOTAL_COST</th>\n",
       "    </tr>\n",
       "    <tr>\n",
       "      <th></th>\n",
       "      <th>count</th>\n",
       "      <th>mean</th>\n",
       "      <th>std</th>\n",
       "      <th>min</th>\n",
       "      <th>25%</th>\n",
       "      <th>50%</th>\n",
       "      <th>75%</th>\n",
       "      <th>max</th>\n",
       "    </tr>\n",
       "    <tr>\n",
       "      <th>CONTACT_PI_GENDER</th>\n",
       "      <th></th>\n",
       "      <th></th>\n",
       "      <th></th>\n",
       "      <th></th>\n",
       "      <th></th>\n",
       "      <th></th>\n",
       "      <th></th>\n",
       "      <th></th>\n",
       "    </tr>\n",
       "  </thead>\n",
       "  <tbody>\n",
       "    <tr>\n",
       "      <th>F</th>\n",
       "      <td>1041.0</td>\n",
       "      <td>530446.094140</td>\n",
       "      <td>492526.867811</td>\n",
       "      <td>17591.0</td>\n",
       "      <td>379219.0</td>\n",
       "      <td>475286.0</td>\n",
       "      <td>631460.0</td>\n",
       "      <td>15000000.0</td>\n",
       "    </tr>\n",
       "    <tr>\n",
       "      <th>M</th>\n",
       "      <td>2069.0</td>\n",
       "      <td>507940.823586</td>\n",
       "      <td>385916.730286</td>\n",
       "      <td>8390.0</td>\n",
       "      <td>375978.0</td>\n",
       "      <td>454840.0</td>\n",
       "      <td>597152.0</td>\n",
       "      <td>14973241.0</td>\n",
       "    </tr>\n",
       "  </tbody>\n",
       "</table>\n",
       "</div>"
      ],
      "text/plain": [
       "                  TOTAL_COST                                                   \\\n",
       "                       count           mean            std      min       25%   \n",
       "CONTACT_PI_GENDER                                                               \n",
       "F                     1041.0  530446.094140  492526.867811  17591.0  379219.0   \n",
       "M                     2069.0  507940.823586  385916.730286   8390.0  375978.0   \n",
       "\n",
       "                                                   \n",
       "                        50%       75%         max  \n",
       "CONTACT_PI_GENDER                                  \n",
       "F                  475286.0  631460.0  15000000.0  \n",
       "M                  454840.0  597152.0  14973241.0  "
      ]
     },
     "execution_count": 64,
     "metadata": {},
     "output_type": "execute_result"
    }
   ],
   "source": [
    "# For projects with only 1 PI, is the funding equivalent? \n",
    "filt = dataset['NB_PI_NAMES'] == 1\n",
    "dataset.loc[filt][[\"CONTACT_PI_GENDER\", \"TOTAL_COST\"]].groupby(\"CONTACT_PI_GENDER\").describe()"
   ]
  },
  {
   "cell_type": "code",
   "execution_count": 76,
   "id": "4f02630b-b726-435c-b124-86a6ca6933d7",
   "metadata": {},
   "outputs": [
    {
     "data": {
      "text/plain": [
       "ORG_COUNTRY     CONTACT_PI_GENDER\n",
       "AUSTRALIA       M                        543227\n",
       "BELGIUM         M                        217174\n",
       "BRAZIL          M                        454046\n",
       "CANADA          F                       2154076\n",
       "                M                       1269897\n",
       "CHINA           M                        137000\n",
       "COLOMBIA        M                        458622\n",
       "DENMARK         M                        194683\n",
       "FRANCE          F                        477599\n",
       "ISRAEL          M                        632041\n",
       "MEXICO          F                        679991\n",
       "MOZAMBIQUE      M                        136452\n",
       "SOUTH AFRICA    F                       3319201\n",
       "                M                       1294318\n",
       "SWEDEN          F                        318304\n",
       "                M                        999161\n",
       "UNITED KINGDOM  F                        476070\n",
       "UNITED STATES   F                     897178442\n",
       "                M                    1650078467\n",
       "Name: TOTAL_COST, dtype: int64"
      ]
     },
     "execution_count": 76,
     "metadata": {},
     "output_type": "execute_result"
    }
   ],
   "source": [
    "country_grp = dataset.groupby(by=['ORG_COUNTRY', 'CONTACT_PI_GENDER'])\n",
    "#country_grp.get_group('UNITED STATES')\n",
    "country_grp['TOTAL_COST'].sum()"
   ]
  },
  {
   "cell_type": "code",
   "execution_count": null,
   "id": "87e01a3b-225d-4b44-bb94-75197d6857e3",
   "metadata": {},
   "outputs": [],
   "source": []
  },
  {
   "cell_type": "markdown",
   "id": "5d86d659-bd94-4723-8581-60ecee0831fe",
   "metadata": {},
   "source": [
    "# Visualization"
   ]
  },
  {
   "cell_type": "code",
   "execution_count": 115,
   "id": "f8f823e0-b0e8-4a29-ade3-48921641f1cc",
   "metadata": {},
   "outputs": [],
   "source": [
    "sns.set(rc={'figure.figsize':(9, 4)})\n",
    "sns.set_theme(context=\"notebook\", style=\"white\", palette=\"Set2\")"
   ]
  },
  {
   "cell_type": "code",
   "execution_count": 121,
   "id": "80c83dcb-7d49-4269-a853-b7a9a20bba4e",
   "metadata": {},
   "outputs": [
    {
     "data": {
      "image/png": "[encoded data removed]",
      "text/plain": [
       "<Figure size 648x288 with 1 Axes>"
      ]
     },
     "metadata": {},
     "output_type": "display_data"
    }
   ],
   "source": [
    "sns.histplot(data=dataset, x=\"TOTAL_COST\", \n",
    "             hue=\"CONTACT_PI_GENDER\", bins=100, \n",
    "             multiple=\"stack\")\n",
    "sns.despine()"
   ]
  },
  {
   "cell_type": "code",
   "execution_count": 122,
   "id": "d692cc43-0f3e-4410-a20b-7602ef9ce318",
   "metadata": {},
   "outputs": [
    {
     "data": {
      "image/png": "[encoded data removed]",
      "text/plain": [
       "<Figure size 648x288 with 1 Axes>"
      ]
     },
     "metadata": {},
     "output_type": "display_data"
    }
   ],
   "source": [
    "sns.histplot(data=dataset, x=\"NB_PI_NAMES\", \n",
    "             hue=\"CONTACT_PI_GENDER\", bins=100, \n",
    "             multiple=\"stack\")\n",
    "sns.despine()"
   ]
  },
  {
   "cell_type": "code",
   "execution_count": 117,
   "id": "97dc4665-c815-405e-9cf4-384db1666a7b",
   "metadata": {},
   "outputs": [
    {
     "data": {
      "text/plain": [
       "<AxesSubplot:>"
      ]
     },
     "execution_count": 117,
     "metadata": {},
     "output_type": "execute_result"
    },
    {
     "data": {
      "image/png": "[encoded data removed]",
      "text/plain": [
       "<Figure size 648x288 with 2 Axes>"
      ]
     },
     "metadata": {},
     "output_type": "display_data"
    }
   ],
   "source": [
    "sns.heatmap(dataset.corr())"
   ]
  },
  {
   "cell_type": "code",
   "execution_count": 119,
   "id": "a177d2e2-e0f0-4e25-b2fb-1a05ab876a69",
   "metadata": {},
   "outputs": [
    {
     "data": {
      "text/plain": [
       "<AxesSubplot:xlabel='CONTACT_PI_GENDER', ylabel='count'>"
      ]
     },
     "execution_count": 119,
     "metadata": {},
     "output_type": "execute_result"
    },
    {
     "data": {
      "image/png": "[encoded data removed]",
      "text/plain": [
       "<Figure size 648x288 with 1 Axes>"
      ]
     },
     "metadata": {},
     "output_type": "display_data"
    }
   ],
   "source": [
    "sns.countplot(data=dataset, x=\"CONTACT_PI_GENDER\")"
   ]
  },
  {
   "cell_type": "code",
   "execution_count": null,
   "id": "5a25f456-07f7-4862-bdad-90412042f6ba",
   "metadata": {},
   "outputs": [],
   "source": []
  }
 ],
 "metadata": {
  "kernelspec": {
   "display_name": "Python 3 (ipykernel)",
   "language": "python",
   "name": "python3"
  },
  "language_info": {
   "codemirror_mode": {
    "name": "ipython",
    "version": 3
   },
   "file_extension": ".py",
   "mimetype": "text/x-python",
   "name": "python",
   "nbconvert_exporter": "python",
   "pygments_lexer": "ipython3",
   "version": "3.10.1"
  }
 },
 "nbformat": 4,
 "nbformat_minor": 5
}
